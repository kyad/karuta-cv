{
 "cells": [
  {
   "cell_type": "markdown",
   "id": "2295fe04-0dce-4936-b474-0c0f2b1ba090",
   "metadata": {},
   "source": [
    "# 分類タスク"
   ]
  },
  {
   "cell_type": "code",
   "execution_count": null,
   "id": "c5387033-7f22-4b17-a514-2ff032842a44",
   "metadata": {},
   "outputs": [],
   "source": [
    "import tensorflow as tf\n",
    "\n",
    "img_gen = tf.keras.preprocessing.image.ImageDataGenerator(rescale=1./255)  # [0, 1], float32\n",
    "ds = tf.data.Dataset.from_generator(\n",
    "    lambda: img_gen.flow_from_directory(\"dataset_cls\", target_size=(224, 224)),\n",
    "    output_types=(tf.float32, tf.float32),\n",
    "    output_shapes=([None, 224, 224, 3], [None, 35])\n",
    ")\n",
    "ds.element_spec"
   ]
  },
  {
   "cell_type": "code",
   "execution_count": null,
   "id": "3b3c7e86-77d3-4c9d-8813-eb35c72632f8",
   "metadata": {},
   "outputs": [],
   "source": [
    "mnet = tf.keras.applications.MobileNet(\n",
    "    input_shape=[224, 224, 3],\n",
    "    include_top=False,\n",
    ")\n",
    "#mnet.summary()\n",
    "inp = mnet.input\n",
    "x = mnet.output\n",
    "x = tf.keras.layers.Flatten()(x)\n",
    "x = tf.keras.layers.Dense(35)(x)\n",
    "model = tf.keras.models.Model(inp, x)\n",
    "#model.summary()"
   ]
  },
  {
   "cell_type": "code",
   "execution_count": null,
   "id": "379a5059-5c5b-414a-81c2-2a2fd0816058",
   "metadata": {},
   "outputs": [],
   "source": [
    "model.compile(optimizer=\"adam\", loss=tf.keras.losses.CategoricalCrossentropy(from_logits=True),\n",
    "              metrics=[\"accuracy\"])"
   ]
  },
  {
   "cell_type": "code",
   "execution_count": null,
   "id": "ca018519-36a5-4b22-8ac0-5c1a65fbc4de",
   "metadata": {},
   "outputs": [],
   "source": [
    "model.fit(ds, epochs=10)"
   ]
  },
  {
   "cell_type": "code",
   "execution_count": null,
   "id": "65298a4d-0078-4178-b712-5079f65d6b2c",
   "metadata": {},
   "outputs": [],
   "source": []
  }
 ],
 "metadata": {
  "kernelspec": {
   "display_name": "Python 3 (ipykernel)",
   "language": "python",
   "name": "python3"
  },
  "language_info": {
   "codemirror_mode": {
    "name": "ipython",
    "version": 3
   },
   "file_extension": ".py",
   "mimetype": "text/x-python",
   "name": "python",
   "nbconvert_exporter": "python",
   "pygments_lexer": "ipython3",
   "version": "3.10.12"
  }
 },
 "nbformat": 4,
 "nbformat_minor": 5
}
