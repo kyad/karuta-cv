{
 "cells": [
  {
   "cell_type": "markdown",
   "id": "2295fe04-0dce-4936-b474-0c0f2b1ba090",
   "metadata": {},
   "source": [
    "# 分類タスクgeneratorのサンプル"
   ]
  },
  {
   "cell_type": "code",
   "execution_count": null,
   "id": "ccaadeaf-4f35-4274-9c8a-4d6b3ce9a861",
   "metadata": {},
   "outputs": [],
   "source": [
    "import glob\n",
    "import os\n",
    "from PIL import Image\n",
    "import matplotlib.pyplot as plt\n",
    "import numpy as np\n",
    "\n",
    "class KarutaClsGenerator:\n",
    "    def __init__(self):\n",
    "        # 画像フォルダ\n",
    "        self.imgdir = \"dataset_cls\"\n",
    "        # データ\n",
    "        with open(\"kimariji_abbrev.txt\") as f:\n",
    "            kimarijis = [l.strip() for l in f.readlines()]\n",
    "        self.xs = []  # list(np.array)\n",
    "        self.ys = []  # list(int)\n",
    "        for label in range(15):\n",
    "            kimariji: str = kimarijis[label]\n",
    "            dirname = \"{:03d}_{}\".format(label + 1, kimariji)\n",
    "            dir = os.path.join(self.imgdir, dirname)\n",
    "            for path in glob.glob(os.path.join(dir, \"*.png\")):\n",
    "                pil_img = Image.open(path)\n",
    "                img = np.array(pil_img)\n",
    "                self.xs.append(img)\n",
    "                self.ys.append(label)\n",
    "\n",
    "    def gen_series(self):\n",
    "        for self.id in range(len(self)):\n",
    "            yield self.xs[self.id], self.ys[self.id]\n",
    "\n",
    "    def __len__(self):\n",
    "        return len(self.ys)\n",
    "\n",
    "cls_gen = KarutaClsGenerator()"
   ]
  },
  {
   "cell_type": "code",
   "execution_count": null,
   "id": "167d11f1-05b2-42bb-9ab7-0cfd80a0e37e",
   "metadata": {
    "editable": true,
    "slideshow": {
     "slide_type": ""
    },
    "tags": []
   },
   "outputs": [],
   "source": [
    "from matplotlib import pyplot as plt\n",
    "import tensorflow as tf\n",
    "\n",
    "ds = tf.data.Dataset.from_generator(\n",
    "    cls_gen.gen_series,\n",
    "    output_types=(tf.uint8, tf.uint8),\n",
    "    output_shapes=((None, None, 3), ()))\n",
    "\n",
    "batch_size = 2\n",
    "ds_batch = ds.shuffle(20).padded_batch(batch_size)\n",
    "xs, ys = next(iter(ds_batch))\n",
    "for x, y in zip(xs, ys):\n",
    "    fig, ax = plt.subplots()\n",
    "    ax.imshow(x)\n",
    "    print(y.numpy())"
   ]
  },
  {
   "cell_type": "code",
   "execution_count": null,
   "id": "0a73cb5c-b70a-4214-b8e6-7037a504af0f",
   "metadata": {},
   "outputs": [],
   "source": [
    "import tensorflow as tf\n",
    "\n",
    "img_gen = tf.keras.preprocessing.image.ImageDataGenerator(rescale=1./255)  # [0, 1], float32\n",
    "images, labels = next(img_gen.flow_from_directory(\"dataset_cls\", target_size=(224, 224)))\n",
    "print(images.dtype, images.shape)\n",
    "print(labels.dtype, labels.shape)"
   ]
  },
  {
   "cell_type": "code",
   "execution_count": null,
   "id": "c4c14c0f-4d5b-4202-995b-1631f64ccf27",
   "metadata": {},
   "outputs": [],
   "source": [
    "for images, labels in ds.take(1):\n",
    "    print(\"images.shape: \", images.shape)\n",
    "    print(\"labels.shape: \", labels.shape)"
   ]
  },
  {
   "cell_type": "code",
   "execution_count": null,
   "id": "6e3b8f16-4003-4648-8147-c306c0526895",
   "metadata": {},
   "outputs": [],
   "source": [
    "from matplotlib import pyplot as plt\n",
    "for images, labels in ds.take(1):\n",
    "    for image, label in zip(images, labels):\n",
    "        fig, ax = plt.subplots()\n",
    "        ax.imshow(image)\n",
    "        #print(label.numpy())"
   ]
  },
  {
   "cell_type": "code",
   "execution_count": null,
   "id": "0d8eeab1-a360-4afd-aa43-2c4cfe1491f0",
   "metadata": {},
   "outputs": [],
   "source": []
  }
 ],
 "metadata": {
  "kernelspec": {
   "display_name": "Python 3 (ipykernel)",
   "language": "python",
   "name": "python3"
  },
  "language_info": {
   "codemirror_mode": {
    "name": "ipython",
    "version": 3
   },
   "file_extension": ".py",
   "mimetype": "text/x-python",
   "name": "python",
   "nbconvert_exporter": "python",
   "pygments_lexer": "ipython3",
   "version": "3.10.12"
  }
 },
 "nbformat": 4,
 "nbformat_minor": 5
}
